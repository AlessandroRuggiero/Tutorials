{
 "cells": [
  {
   "cell_type": "code",
   "execution_count": 1,
   "metadata": {},
   "outputs": [],
   "source": [
    "import tensorflow as tf\n",
    "from tensorflow import keras\n",
    "from tensorflow.keras import Sequential\n",
    "from tensorflow.keras.layers import Flatten, Dense, Dropout, BatchNormalization\n",
    "from tensorflow.keras.layers import Conv1D, MaxPool1D\n",
    "from tensorflow.keras.optimizers import Adam"
   ]
  },
  {
   "cell_type": "code",
   "execution_count": 2,
   "metadata": {},
   "outputs": [],
   "source": [
    "import pandas as pd\n",
    "import numpy as np\n",
    "import matplotlib.pyplot as plt\n",
    "from sklearn.model_selection import train_test_split\n",
    "from sklearn.preprocessing import StandardScaler"
   ]
  },
  {
   "cell_type": "code",
   "execution_count": 3,
   "metadata": {},
   "outputs": [
    {
     "data": {
      "text/html": [
       "<div>\n",
       "<style scoped>\n",
       "    .dataframe tbody tr th:only-of-type {\n",
       "        vertical-align: middle;\n",
       "    }\n",
       "\n",
       "    .dataframe tbody tr th {\n",
       "        vertical-align: top;\n",
       "    }\n",
       "\n",
       "    .dataframe thead th {\n",
       "        text-align: right;\n",
       "    }\n",
       "</style>\n",
       "<table border=\"1\" class=\"dataframe\">\n",
       "  <thead>\n",
       "    <tr style=\"text-align: right;\">\n",
       "      <th></th>\n",
       "      <th>Time</th>\n",
       "      <th>V1</th>\n",
       "      <th>V2</th>\n",
       "      <th>V3</th>\n",
       "      <th>V4</th>\n",
       "      <th>V5</th>\n",
       "      <th>V6</th>\n",
       "      <th>V7</th>\n",
       "      <th>V8</th>\n",
       "      <th>V9</th>\n",
       "      <th>...</th>\n",
       "      <th>V21</th>\n",
       "      <th>V22</th>\n",
       "      <th>V23</th>\n",
       "      <th>V24</th>\n",
       "      <th>V25</th>\n",
       "      <th>V26</th>\n",
       "      <th>V27</th>\n",
       "      <th>V28</th>\n",
       "      <th>Amount</th>\n",
       "      <th>Class</th>\n",
       "    </tr>\n",
       "  </thead>\n",
       "  <tbody>\n",
       "    <tr>\n",
       "      <th>0</th>\n",
       "      <td>0.0</td>\n",
       "      <td>-1.359807</td>\n",
       "      <td>-0.072781</td>\n",
       "      <td>2.536347</td>\n",
       "      <td>1.378155</td>\n",
       "      <td>-0.338321</td>\n",
       "      <td>0.462388</td>\n",
       "      <td>0.239599</td>\n",
       "      <td>0.098698</td>\n",
       "      <td>0.363787</td>\n",
       "      <td>...</td>\n",
       "      <td>-0.018307</td>\n",
       "      <td>0.277838</td>\n",
       "      <td>-0.110474</td>\n",
       "      <td>0.066928</td>\n",
       "      <td>0.128539</td>\n",
       "      <td>-0.189115</td>\n",
       "      <td>0.133558</td>\n",
       "      <td>-0.021053</td>\n",
       "      <td>149.62</td>\n",
       "      <td>0</td>\n",
       "    </tr>\n",
       "    <tr>\n",
       "      <th>1</th>\n",
       "      <td>0.0</td>\n",
       "      <td>1.191857</td>\n",
       "      <td>0.266151</td>\n",
       "      <td>0.166480</td>\n",
       "      <td>0.448154</td>\n",
       "      <td>0.060018</td>\n",
       "      <td>-0.082361</td>\n",
       "      <td>-0.078803</td>\n",
       "      <td>0.085102</td>\n",
       "      <td>-0.255425</td>\n",
       "      <td>...</td>\n",
       "      <td>-0.225775</td>\n",
       "      <td>-0.638672</td>\n",
       "      <td>0.101288</td>\n",
       "      <td>-0.339846</td>\n",
       "      <td>0.167170</td>\n",
       "      <td>0.125895</td>\n",
       "      <td>-0.008983</td>\n",
       "      <td>0.014724</td>\n",
       "      <td>2.69</td>\n",
       "      <td>0</td>\n",
       "    </tr>\n",
       "    <tr>\n",
       "      <th>2</th>\n",
       "      <td>1.0</td>\n",
       "      <td>-1.358354</td>\n",
       "      <td>-1.340163</td>\n",
       "      <td>1.773209</td>\n",
       "      <td>0.379780</td>\n",
       "      <td>-0.503198</td>\n",
       "      <td>1.800499</td>\n",
       "      <td>0.791461</td>\n",
       "      <td>0.247676</td>\n",
       "      <td>-1.514654</td>\n",
       "      <td>...</td>\n",
       "      <td>0.247998</td>\n",
       "      <td>0.771679</td>\n",
       "      <td>0.909412</td>\n",
       "      <td>-0.689281</td>\n",
       "      <td>-0.327642</td>\n",
       "      <td>-0.139097</td>\n",
       "      <td>-0.055353</td>\n",
       "      <td>-0.059752</td>\n",
       "      <td>378.66</td>\n",
       "      <td>0</td>\n",
       "    </tr>\n",
       "    <tr>\n",
       "      <th>3</th>\n",
       "      <td>1.0</td>\n",
       "      <td>-0.966272</td>\n",
       "      <td>-0.185226</td>\n",
       "      <td>1.792993</td>\n",
       "      <td>-0.863291</td>\n",
       "      <td>-0.010309</td>\n",
       "      <td>1.247203</td>\n",
       "      <td>0.237609</td>\n",
       "      <td>0.377436</td>\n",
       "      <td>-1.387024</td>\n",
       "      <td>...</td>\n",
       "      <td>-0.108300</td>\n",
       "      <td>0.005274</td>\n",
       "      <td>-0.190321</td>\n",
       "      <td>-1.175575</td>\n",
       "      <td>0.647376</td>\n",
       "      <td>-0.221929</td>\n",
       "      <td>0.062723</td>\n",
       "      <td>0.061458</td>\n",
       "      <td>123.50</td>\n",
       "      <td>0</td>\n",
       "    </tr>\n",
       "    <tr>\n",
       "      <th>4</th>\n",
       "      <td>2.0</td>\n",
       "      <td>-1.158233</td>\n",
       "      <td>0.877737</td>\n",
       "      <td>1.548718</td>\n",
       "      <td>0.403034</td>\n",
       "      <td>-0.407193</td>\n",
       "      <td>0.095921</td>\n",
       "      <td>0.592941</td>\n",
       "      <td>-0.270533</td>\n",
       "      <td>0.817739</td>\n",
       "      <td>...</td>\n",
       "      <td>-0.009431</td>\n",
       "      <td>0.798278</td>\n",
       "      <td>-0.137458</td>\n",
       "      <td>0.141267</td>\n",
       "      <td>-0.206010</td>\n",
       "      <td>0.502292</td>\n",
       "      <td>0.219422</td>\n",
       "      <td>0.215153</td>\n",
       "      <td>69.99</td>\n",
       "      <td>0</td>\n",
       "    </tr>\n",
       "  </tbody>\n",
       "</table>\n",
       "<p>5 rows × 31 columns</p>\n",
       "</div>"
      ],
      "text/plain": [
       "   Time        V1        V2        V3        V4        V5        V6        V7  \\\n",
       "0   0.0 -1.359807 -0.072781  2.536347  1.378155 -0.338321  0.462388  0.239599   \n",
       "1   0.0  1.191857  0.266151  0.166480  0.448154  0.060018 -0.082361 -0.078803   \n",
       "2   1.0 -1.358354 -1.340163  1.773209  0.379780 -0.503198  1.800499  0.791461   \n",
       "3   1.0 -0.966272 -0.185226  1.792993 -0.863291 -0.010309  1.247203  0.237609   \n",
       "4   2.0 -1.158233  0.877737  1.548718  0.403034 -0.407193  0.095921  0.592941   \n",
       "\n",
       "         V8        V9  ...       V21       V22       V23       V24       V25  \\\n",
       "0  0.098698  0.363787  ... -0.018307  0.277838 -0.110474  0.066928  0.128539   \n",
       "1  0.085102 -0.255425  ... -0.225775 -0.638672  0.101288 -0.339846  0.167170   \n",
       "2  0.247676 -1.514654  ...  0.247998  0.771679  0.909412 -0.689281 -0.327642   \n",
       "3  0.377436 -1.387024  ... -0.108300  0.005274 -0.190321 -1.175575  0.647376   \n",
       "4 -0.270533  0.817739  ... -0.009431  0.798278 -0.137458  0.141267 -0.206010   \n",
       "\n",
       "        V26       V27       V28  Amount  Class  \n",
       "0 -0.189115  0.133558 -0.021053  149.62      0  \n",
       "1  0.125895 -0.008983  0.014724    2.69      0  \n",
       "2 -0.139097 -0.055353 -0.059752  378.66      0  \n",
       "3 -0.221929  0.062723  0.061458  123.50      0  \n",
       "4  0.502292  0.219422  0.215153   69.99      0  \n",
       "\n",
       "[5 rows x 31 columns]"
      ]
     },
     "execution_count": 3,
     "metadata": {},
     "output_type": "execute_result"
    }
   ],
   "source": [
    "data = pd.read_csv (\"D:\\\\ai\\\\datasets\\\\carte di credito\\\\creditcard.csv\")\n",
    "data.head ()"
   ]
  },
  {
   "cell_type": "code",
   "execution_count": 4,
   "metadata": {},
   "outputs": [
    {
     "data": {
      "text/plain": [
       "(284807, 31)"
      ]
     },
     "execution_count": 4,
     "metadata": {},
     "output_type": "execute_result"
    }
   ],
   "source": [
    "data.shape"
   ]
  },
  {
   "cell_type": "code",
   "execution_count": 5,
   "metadata": {},
   "outputs": [
    {
     "data": {
      "text/plain": [
       "Time      0\n",
       "V1        0\n",
       "V2        0\n",
       "V3        0\n",
       "V4        0\n",
       "V5        0\n",
       "V6        0\n",
       "V7        0\n",
       "V8        0\n",
       "V9        0\n",
       "V10       0\n",
       "V11       0\n",
       "V12       0\n",
       "V13       0\n",
       "V14       0\n",
       "V15       0\n",
       "V16       0\n",
       "V17       0\n",
       "V18       0\n",
       "V19       0\n",
       "V20       0\n",
       "V21       0\n",
       "V22       0\n",
       "V23       0\n",
       "V24       0\n",
       "V25       0\n",
       "V26       0\n",
       "V27       0\n",
       "V28       0\n",
       "Amount    0\n",
       "Class     0\n",
       "dtype: int64"
      ]
     },
     "execution_count": 5,
     "metadata": {},
     "output_type": "execute_result"
    }
   ],
   "source": [
    "data.isnull ().sum ()"
   ]
  },
  {
   "cell_type": "code",
   "execution_count": 6,
   "metadata": {},
   "outputs": [
    {
     "name": "stdout",
     "output_type": "stream",
     "text": [
      "<class 'pandas.core.frame.DataFrame'>\n",
      "RangeIndex: 284807 entries, 0 to 284806\n",
      "Data columns (total 31 columns):\n",
      " #   Column  Non-Null Count   Dtype  \n",
      "---  ------  --------------   -----  \n",
      " 0   Time    284807 non-null  float64\n",
      " 1   V1      284807 non-null  float64\n",
      " 2   V2      284807 non-null  float64\n",
      " 3   V3      284807 non-null  float64\n",
      " 4   V4      284807 non-null  float64\n",
      " 5   V5      284807 non-null  float64\n",
      " 6   V6      284807 non-null  float64\n",
      " 7   V7      284807 non-null  float64\n",
      " 8   V8      284807 non-null  float64\n",
      " 9   V9      284807 non-null  float64\n",
      " 10  V10     284807 non-null  float64\n",
      " 11  V11     284807 non-null  float64\n",
      " 12  V12     284807 non-null  float64\n",
      " 13  V13     284807 non-null  float64\n",
      " 14  V14     284807 non-null  float64\n",
      " 15  V15     284807 non-null  float64\n",
      " 16  V16     284807 non-null  float64\n",
      " 17  V17     284807 non-null  float64\n",
      " 18  V18     284807 non-null  float64\n",
      " 19  V19     284807 non-null  float64\n",
      " 20  V20     284807 non-null  float64\n",
      " 21  V21     284807 non-null  float64\n",
      " 22  V22     284807 non-null  float64\n",
      " 23  V23     284807 non-null  float64\n",
      " 24  V24     284807 non-null  float64\n",
      " 25  V25     284807 non-null  float64\n",
      " 26  V26     284807 non-null  float64\n",
      " 27  V27     284807 non-null  float64\n",
      " 28  V28     284807 non-null  float64\n",
      " 29  Amount  284807 non-null  float64\n",
      " 30  Class   284807 non-null  int64  \n",
      "dtypes: float64(30), int64(1)\n",
      "memory usage: 67.4 MB\n"
     ]
    }
   ],
   "source": [
    "data.info()"
   ]
  },
  {
   "cell_type": "code",
   "execution_count": 7,
   "metadata": {},
   "outputs": [
    {
     "data": {
      "text/plain": [
       "0    284315\n",
       "1       492\n",
       "Name: Class, dtype: int64"
      ]
     },
     "execution_count": 7,
     "metadata": {},
     "output_type": "execute_result"
    }
   ],
   "source": [
    "data[\"Class\"].value_counts()"
   ]
  },
  {
   "cell_type": "code",
   "execution_count": 8,
   "metadata": {},
   "outputs": [
    {
     "data": {
      "text/plain": [
       "<matplotlib.axes._subplots.AxesSubplot at 0x1c836c633c8>"
      ]
     },
     "execution_count": 8,
     "metadata": {},
     "output_type": "execute_result"
    },
    {
     "data": {
      "image/png": "[encoded data removed]",
      "text/plain": [
       "<Figure size 432x288 with 1 Axes>"
      ]
     },
     "metadata": {
      "needs_background": "light"
     },
     "output_type": "display_data"
    }
   ],
   "source": [
    "data[\"Class\"].hist()"
   ]
  },
  {
   "cell_type": "code",
   "execution_count": 9,
   "metadata": {},
   "outputs": [
    {
     "data": {
      "text/plain": [
       "0.9464479454507789"
      ]
     },
     "execution_count": 9,
     "metadata": {},
     "output_type": "execute_result"
    }
   ],
   "source": [
    "1- data [data[\"Class\"] == 1].count().sum()/ data[\"Class\"].count()"
   ]
  },
  {
   "cell_type": "code",
   "execution_count": 10,
   "metadata": {},
   "outputs": [],
   "source": [
    "non_frode = data[data[\"Class\"] == 0]\n",
    "frode = data[data[\"Class\"] == 1]"
   ]
  },
  {
   "cell_type": "code",
   "execution_count": 11,
   "metadata": {},
   "outputs": [
    {
     "data": {
      "text/plain": [
       "(492, 31)"
      ]
     },
     "execution_count": 11,
     "metadata": {},
     "output_type": "execute_result"
    }
   ],
   "source": [
    "frode.shape"
   ]
  },
  {
   "cell_type": "code",
   "execution_count": 12,
   "metadata": {},
   "outputs": [],
   "source": [
    "non_frode = non_frode.sample (frode.shape[0])"
   ]
  },
  {
   "cell_type": "code",
   "execution_count": 13,
   "metadata": {},
   "outputs": [],
   "source": [
    "data = frode.append (non_frode, ignore_index=True)"
   ]
  },
  {
   "cell_type": "code",
   "execution_count": 14,
   "metadata": {},
   "outputs": [
    {
     "data": {
      "text/html": [
       "<div>\n",
       "<style scoped>\n",
       "    .dataframe tbody tr th:only-of-type {\n",
       "        vertical-align: middle;\n",
       "    }\n",
       "\n",
       "    .dataframe tbody tr th {\n",
       "        vertical-align: top;\n",
       "    }\n",
       "\n",
       "    .dataframe thead th {\n",
       "        text-align: right;\n",
       "    }\n",
       "</style>\n",
       "<table border=\"1\" class=\"dataframe\">\n",
       "  <thead>\n",
       "    <tr style=\"text-align: right;\">\n",
       "      <th></th>\n",
       "      <th>Time</th>\n",
       "      <th>V1</th>\n",
       "      <th>V2</th>\n",
       "      <th>V3</th>\n",
       "      <th>V4</th>\n",
       "      <th>V5</th>\n",
       "      <th>V6</th>\n",
       "      <th>V7</th>\n",
       "      <th>V8</th>\n",
       "      <th>V9</th>\n",
       "      <th>...</th>\n",
       "      <th>V21</th>\n",
       "      <th>V22</th>\n",
       "      <th>V23</th>\n",
       "      <th>V24</th>\n",
       "      <th>V25</th>\n",
       "      <th>V26</th>\n",
       "      <th>V27</th>\n",
       "      <th>V28</th>\n",
       "      <th>Amount</th>\n",
       "      <th>Class</th>\n",
       "    </tr>\n",
       "  </thead>\n",
       "  <tbody>\n",
       "    <tr>\n",
       "      <th>0</th>\n",
       "      <td>406.0</td>\n",
       "      <td>-2.312227</td>\n",
       "      <td>1.951992</td>\n",
       "      <td>-1.609851</td>\n",
       "      <td>3.997906</td>\n",
       "      <td>-0.522188</td>\n",
       "      <td>-1.426545</td>\n",
       "      <td>-2.537387</td>\n",
       "      <td>1.391657</td>\n",
       "      <td>-2.770089</td>\n",
       "      <td>...</td>\n",
       "      <td>0.517232</td>\n",
       "      <td>-0.035049</td>\n",
       "      <td>-0.465211</td>\n",
       "      <td>0.320198</td>\n",
       "      <td>0.044519</td>\n",
       "      <td>0.177840</td>\n",
       "      <td>0.261145</td>\n",
       "      <td>-0.143276</td>\n",
       "      <td>0.00</td>\n",
       "      <td>1</td>\n",
       "    </tr>\n",
       "    <tr>\n",
       "      <th>1</th>\n",
       "      <td>472.0</td>\n",
       "      <td>-3.043541</td>\n",
       "      <td>-3.157307</td>\n",
       "      <td>1.088463</td>\n",
       "      <td>2.288644</td>\n",
       "      <td>1.359805</td>\n",
       "      <td>-1.064823</td>\n",
       "      <td>0.325574</td>\n",
       "      <td>-0.067794</td>\n",
       "      <td>-0.270953</td>\n",
       "      <td>...</td>\n",
       "      <td>0.661696</td>\n",
       "      <td>0.435477</td>\n",
       "      <td>1.375966</td>\n",
       "      <td>-0.293803</td>\n",
       "      <td>0.279798</td>\n",
       "      <td>-0.145362</td>\n",
       "      <td>-0.252773</td>\n",
       "      <td>0.035764</td>\n",
       "      <td>529.00</td>\n",
       "      <td>1</td>\n",
       "    </tr>\n",
       "    <tr>\n",
       "      <th>2</th>\n",
       "      <td>4462.0</td>\n",
       "      <td>-2.303350</td>\n",
       "      <td>1.759247</td>\n",
       "      <td>-0.359745</td>\n",
       "      <td>2.330243</td>\n",
       "      <td>-0.821628</td>\n",
       "      <td>-0.075788</td>\n",
       "      <td>0.562320</td>\n",
       "      <td>-0.399147</td>\n",
       "      <td>-0.238253</td>\n",
       "      <td>...</td>\n",
       "      <td>-0.294166</td>\n",
       "      <td>-0.932391</td>\n",
       "      <td>0.172726</td>\n",
       "      <td>-0.087330</td>\n",
       "      <td>-0.156114</td>\n",
       "      <td>-0.542628</td>\n",
       "      <td>0.039566</td>\n",
       "      <td>-0.153029</td>\n",
       "      <td>239.93</td>\n",
       "      <td>1</td>\n",
       "    </tr>\n",
       "    <tr>\n",
       "      <th>3</th>\n",
       "      <td>6986.0</td>\n",
       "      <td>-4.397974</td>\n",
       "      <td>1.358367</td>\n",
       "      <td>-2.592844</td>\n",
       "      <td>2.679787</td>\n",
       "      <td>-1.128131</td>\n",
       "      <td>-1.706536</td>\n",
       "      <td>-3.496197</td>\n",
       "      <td>-0.248778</td>\n",
       "      <td>-0.247768</td>\n",
       "      <td>...</td>\n",
       "      <td>0.573574</td>\n",
       "      <td>0.176968</td>\n",
       "      <td>-0.436207</td>\n",
       "      <td>-0.053502</td>\n",
       "      <td>0.252405</td>\n",
       "      <td>-0.657488</td>\n",
       "      <td>-0.827136</td>\n",
       "      <td>0.849573</td>\n",
       "      <td>59.00</td>\n",
       "      <td>1</td>\n",
       "    </tr>\n",
       "    <tr>\n",
       "      <th>4</th>\n",
       "      <td>7519.0</td>\n",
       "      <td>1.234235</td>\n",
       "      <td>3.019740</td>\n",
       "      <td>-4.304597</td>\n",
       "      <td>4.732795</td>\n",
       "      <td>3.624201</td>\n",
       "      <td>-1.357746</td>\n",
       "      <td>1.713445</td>\n",
       "      <td>-0.496358</td>\n",
       "      <td>-1.282858</td>\n",
       "      <td>...</td>\n",
       "      <td>-0.379068</td>\n",
       "      <td>-0.704181</td>\n",
       "      <td>-0.656805</td>\n",
       "      <td>-1.632653</td>\n",
       "      <td>1.488901</td>\n",
       "      <td>0.566797</td>\n",
       "      <td>-0.010016</td>\n",
       "      <td>0.146793</td>\n",
       "      <td>1.00</td>\n",
       "      <td>1</td>\n",
       "    </tr>\n",
       "  </tbody>\n",
       "</table>\n",
       "<p>5 rows × 31 columns</p>\n",
       "</div>"
      ],
      "text/plain": [
       "     Time        V1        V2        V3        V4        V5        V6  \\\n",
       "0   406.0 -2.312227  1.951992 -1.609851  3.997906 -0.522188 -1.426545   \n",
       "1   472.0 -3.043541 -3.157307  1.088463  2.288644  1.359805 -1.064823   \n",
       "2  4462.0 -2.303350  1.759247 -0.359745  2.330243 -0.821628 -0.075788   \n",
       "3  6986.0 -4.397974  1.358367 -2.592844  2.679787 -1.128131 -1.706536   \n",
       "4  7519.0  1.234235  3.019740 -4.304597  4.732795  3.624201 -1.357746   \n",
       "\n",
       "         V7        V8        V9  ...       V21       V22       V23       V24  \\\n",
       "0 -2.537387  1.391657 -2.770089  ...  0.517232 -0.035049 -0.465211  0.320198   \n",
       "1  0.325574 -0.067794 -0.270953  ...  0.661696  0.435477  1.375966 -0.293803   \n",
       "2  0.562320 -0.399147 -0.238253  ... -0.294166 -0.932391  0.172726 -0.087330   \n",
       "3 -3.496197 -0.248778 -0.247768  ...  0.573574  0.176968 -0.436207 -0.053502   \n",
       "4  1.713445 -0.496358 -1.282858  ... -0.379068 -0.704181 -0.656805 -1.632653   \n",
       "\n",
       "        V25       V26       V27       V28  Amount  Class  \n",
       "0  0.044519  0.177840  0.261145 -0.143276    0.00      1  \n",
       "1  0.279798 -0.145362 -0.252773  0.035764  529.00      1  \n",
       "2 -0.156114 -0.542628  0.039566 -0.153029  239.93      1  \n",
       "3  0.252405 -0.657488 -0.827136  0.849573   59.00      1  \n",
       "4  1.488901  0.566797 -0.010016  0.146793    1.00      1  \n",
       "\n",
       "[5 rows x 31 columns]"
      ]
     },
     "execution_count": 14,
     "metadata": {},
     "output_type": "execute_result"
    }
   ],
   "source": [
    "data.head()"
   ]
  },
  {
   "cell_type": "code",
   "execution_count": 15,
   "metadata": {},
   "outputs": [
    {
     "data": {
      "text/plain": [
       "1    492\n",
       "0    492\n",
       "Name: Class, dtype: int64"
      ]
     },
     "execution_count": 15,
     "metadata": {},
     "output_type": "execute_result"
    }
   ],
   "source": [
    "data[\"Class\"].value_counts()"
   ]
  },
  {
   "cell_type": "code",
   "execution_count": 16,
   "metadata": {},
   "outputs": [],
   "source": [
    "X = data.drop (\"Class\",axis = 1)\n",
    "y = data[\"Class\"]"
   ]
  },
  {
   "cell_type": "code",
   "execution_count": 17,
   "metadata": {},
   "outputs": [],
   "source": [
    "X_train, X_test, y_train, y_test =train_test_split (X,y,test_size = 0.2,stratify = y,random_state = 0)"
   ]
  },
  {
   "cell_type": "code",
   "execution_count": 18,
   "metadata": {},
   "outputs": [
    {
     "data": {
      "text/html": [
       "<div>\n",
       "<style scoped>\n",
       "    .dataframe tbody tr th:only-of-type {\n",
       "        vertical-align: middle;\n",
       "    }\n",
       "\n",
       "    .dataframe tbody tr th {\n",
       "        vertical-align: top;\n",
       "    }\n",
       "\n",
       "    .dataframe thead th {\n",
       "        text-align: right;\n",
       "    }\n",
       "</style>\n",
       "<table border=\"1\" class=\"dataframe\">\n",
       "  <thead>\n",
       "    <tr style=\"text-align: right;\">\n",
       "      <th></th>\n",
       "      <th>Time</th>\n",
       "      <th>V1</th>\n",
       "      <th>V2</th>\n",
       "      <th>V3</th>\n",
       "      <th>V4</th>\n",
       "      <th>V5</th>\n",
       "      <th>V6</th>\n",
       "      <th>V7</th>\n",
       "      <th>V8</th>\n",
       "      <th>V9</th>\n",
       "      <th>...</th>\n",
       "      <th>V21</th>\n",
       "      <th>V22</th>\n",
       "      <th>V23</th>\n",
       "      <th>V24</th>\n",
       "      <th>V25</th>\n",
       "      <th>V26</th>\n",
       "      <th>V27</th>\n",
       "      <th>V28</th>\n",
       "      <th>Amount</th>\n",
       "      <th>Class</th>\n",
       "    </tr>\n",
       "  </thead>\n",
       "  <tbody>\n",
       "    <tr>\n",
       "      <th>count</th>\n",
       "      <td>984.000000</td>\n",
       "      <td>984.000000</td>\n",
       "      <td>984.000000</td>\n",
       "      <td>984.000000</td>\n",
       "      <td>984.000000</td>\n",
       "      <td>984.000000</td>\n",
       "      <td>984.000000</td>\n",
       "      <td>984.000000</td>\n",
       "      <td>984.000000</td>\n",
       "      <td>984.000000</td>\n",
       "      <td>...</td>\n",
       "      <td>984.000000</td>\n",
       "      <td>984.000000</td>\n",
       "      <td>984.000000</td>\n",
       "      <td>984.000000</td>\n",
       "      <td>984.000000</td>\n",
       "      <td>984.000000</td>\n",
       "      <td>984.000000</td>\n",
       "      <td>984.000000</td>\n",
       "      <td>984.000000</td>\n",
       "      <td>984.000000</td>\n",
       "    </tr>\n",
       "    <tr>\n",
       "      <th>mean</th>\n",
       "      <td>89464.263211</td>\n",
       "      <td>-2.350410</td>\n",
       "      <td>1.786114</td>\n",
       "      <td>-3.490047</td>\n",
       "      <td>2.199358</td>\n",
       "      <td>-1.552648</td>\n",
       "      <td>-0.683964</td>\n",
       "      <td>-2.821240</td>\n",
       "      <td>0.308366</td>\n",
       "      <td>-1.277582</td>\n",
       "      <td>...</td>\n",
       "      <td>0.339959</td>\n",
       "      <td>0.040878</td>\n",
       "      <td>0.002515</td>\n",
       "      <td>-0.048071</td>\n",
       "      <td>-0.005740</td>\n",
       "      <td>0.024666</td>\n",
       "      <td>0.090829</td>\n",
       "      <td>0.042620</td>\n",
       "      <td>98.326433</td>\n",
       "      <td>0.500000</td>\n",
       "    </tr>\n",
       "    <tr>\n",
       "      <th>std</th>\n",
       "      <td>48251.278288</td>\n",
       "      <td>5.524348</td>\n",
       "      <td>3.729743</td>\n",
       "      <td>6.226373</td>\n",
       "      <td>3.240427</td>\n",
       "      <td>4.210153</td>\n",
       "      <td>1.789003</td>\n",
       "      <td>5.841649</td>\n",
       "      <td>4.903521</td>\n",
       "      <td>2.336236</td>\n",
       "      <td>...</td>\n",
       "      <td>2.802077</td>\n",
       "      <td>1.182388</td>\n",
       "      <td>1.199071</td>\n",
       "      <td>0.584607</td>\n",
       "      <td>0.682188</td>\n",
       "      <td>0.490011</td>\n",
       "      <td>1.015196</td>\n",
       "      <td>0.435480</td>\n",
       "      <td>220.835404</td>\n",
       "      <td>0.500254</td>\n",
       "    </tr>\n",
       "    <tr>\n",
       "      <th>min</th>\n",
       "      <td>406.000000</td>\n",
       "      <td>-30.552380</td>\n",
       "      <td>-14.283875</td>\n",
       "      <td>-31.103685</td>\n",
       "      <td>-3.818624</td>\n",
       "      <td>-22.105532</td>\n",
       "      <td>-6.406267</td>\n",
       "      <td>-43.557242</td>\n",
       "      <td>-41.044261</td>\n",
       "      <td>-13.434066</td>\n",
       "      <td>...</td>\n",
       "      <td>-22.797604</td>\n",
       "      <td>-8.887017</td>\n",
       "      <td>-19.254328</td>\n",
       "      <td>-2.028024</td>\n",
       "      <td>-4.781606</td>\n",
       "      <td>-1.206378</td>\n",
       "      <td>-7.263482</td>\n",
       "      <td>-2.839512</td>\n",
       "      <td>0.000000</td>\n",
       "      <td>0.000000</td>\n",
       "    </tr>\n",
       "    <tr>\n",
       "      <th>25%</th>\n",
       "      <td>48128.500000</td>\n",
       "      <td>-2.788129</td>\n",
       "      <td>-0.149685</td>\n",
       "      <td>-5.084967</td>\n",
       "      <td>-0.243813</td>\n",
       "      <td>-1.767798</td>\n",
       "      <td>-1.599082</td>\n",
       "      <td>-3.107826</td>\n",
       "      <td>-0.182701</td>\n",
       "      <td>-2.313050</td>\n",
       "      <td>...</td>\n",
       "      <td>-0.166723</td>\n",
       "      <td>-0.521657</td>\n",
       "      <td>-0.221737</td>\n",
       "      <td>-0.405859</td>\n",
       "      <td>-0.339620</td>\n",
       "      <td>-0.271778</td>\n",
       "      <td>-0.055177</td>\n",
       "      <td>-0.056150</td>\n",
       "      <td>1.000000</td>\n",
       "      <td>0.000000</td>\n",
       "    </tr>\n",
       "    <tr>\n",
       "      <th>50%</th>\n",
       "      <td>82880.500000</td>\n",
       "      <td>-0.694165</td>\n",
       "      <td>0.885561</td>\n",
       "      <td>-1.320103</td>\n",
       "      <td>1.287041</td>\n",
       "      <td>-0.444286</td>\n",
       "      <td>-0.630181</td>\n",
       "      <td>-0.691553</td>\n",
       "      <td>0.168482</td>\n",
       "      <td>-0.723694</td>\n",
       "      <td>...</td>\n",
       "      <td>0.158002</td>\n",
       "      <td>0.078933</td>\n",
       "      <td>-0.026371</td>\n",
       "      <td>0.007696</td>\n",
       "      <td>0.036445</td>\n",
       "      <td>-0.025394</td>\n",
       "      <td>0.059628</td>\n",
       "      <td>0.035679</td>\n",
       "      <td>15.825000</td>\n",
       "      <td>0.500000</td>\n",
       "    </tr>\n",
       "    <tr>\n",
       "      <th>75%</th>\n",
       "      <td>137146.500000</td>\n",
       "      <td>1.062748</td>\n",
       "      <td>2.793742</td>\n",
       "      <td>0.342652</td>\n",
       "      <td>4.184137</td>\n",
       "      <td>0.496075</td>\n",
       "      <td>0.073240</td>\n",
       "      <td>0.262569</td>\n",
       "      <td>0.853157</td>\n",
       "      <td>0.205266</td>\n",
       "      <td>...</td>\n",
       "      <td>0.624776</td>\n",
       "      <td>0.613513</td>\n",
       "      <td>0.191459</td>\n",
       "      <td>0.381696</td>\n",
       "      <td>0.369868</td>\n",
       "      <td>0.322613</td>\n",
       "      <td>0.434981</td>\n",
       "      <td>0.220976</td>\n",
       "      <td>99.990000</td>\n",
       "      <td>1.000000</td>\n",
       "    </tr>\n",
       "    <tr>\n",
       "      <th>max</th>\n",
       "      <td>172204.000000</td>\n",
       "      <td>2.328681</td>\n",
       "      <td>22.057729</td>\n",
       "      <td>3.439154</td>\n",
       "      <td>12.114672</td>\n",
       "      <td>11.095089</td>\n",
       "      <td>6.474115</td>\n",
       "      <td>5.802537</td>\n",
       "      <td>20.007208</td>\n",
       "      <td>7.796227</td>\n",
       "      <td>...</td>\n",
       "      <td>27.202839</td>\n",
       "      <td>8.361985</td>\n",
       "      <td>9.974239</td>\n",
       "      <td>3.138056</td>\n",
       "      <td>2.265639</td>\n",
       "      <td>3.067907</td>\n",
       "      <td>4.374186</td>\n",
       "      <td>2.972826</td>\n",
       "      <td>2287.200000</td>\n",
       "      <td>1.000000</td>\n",
       "    </tr>\n",
       "  </tbody>\n",
       "</table>\n",
       "<p>8 rows × 31 columns</p>\n",
       "</div>"
      ],
      "text/plain": [
       "                Time          V1          V2          V3          V4  \\\n",
       "count     984.000000  984.000000  984.000000  984.000000  984.000000   \n",
       "mean    89464.263211   -2.350410    1.786114   -3.490047    2.199358   \n",
       "std     48251.278288    5.524348    3.729743    6.226373    3.240427   \n",
       "min       406.000000  -30.552380  -14.283875  -31.103685   -3.818624   \n",
       "25%     48128.500000   -2.788129   -0.149685   -5.084967   -0.243813   \n",
       "50%     82880.500000   -0.694165    0.885561   -1.320103    1.287041   \n",
       "75%    137146.500000    1.062748    2.793742    0.342652    4.184137   \n",
       "max    172204.000000    2.328681   22.057729    3.439154   12.114672   \n",
       "\n",
       "               V5          V6          V7          V8          V9  ...  \\\n",
       "count  984.000000  984.000000  984.000000  984.000000  984.000000  ...   \n",
       "mean    -1.552648   -0.683964   -2.821240    0.308366   -1.277582  ...   \n",
       "std      4.210153    1.789003    5.841649    4.903521    2.336236  ...   \n",
       "min    -22.105532   -6.406267  -43.557242  -41.044261  -13.434066  ...   \n",
       "25%     -1.767798   -1.599082   -3.107826   -0.182701   -2.313050  ...   \n",
       "50%     -0.444286   -0.630181   -0.691553    0.168482   -0.723694  ...   \n",
       "75%      0.496075    0.073240    0.262569    0.853157    0.205266  ...   \n",
       "max     11.095089    6.474115    5.802537   20.007208    7.796227  ...   \n",
       "\n",
       "              V21         V22         V23         V24         V25         V26  \\\n",
       "count  984.000000  984.000000  984.000000  984.000000  984.000000  984.000000   \n",
       "mean     0.339959    0.040878    0.002515   -0.048071   -0.005740    0.024666   \n",
       "std      2.802077    1.182388    1.199071    0.584607    0.682188    0.490011   \n",
       "min    -22.797604   -8.887017  -19.254328   -2.028024   -4.781606   -1.206378   \n",
       "25%     -0.166723   -0.521657   -0.221737   -0.405859   -0.339620   -0.271778   \n",
       "50%      0.158002    0.078933   -0.026371    0.007696    0.036445   -0.025394   \n",
       "75%      0.624776    0.613513    0.191459    0.381696    0.369868    0.322613   \n",
       "max     27.202839    8.361985    9.974239    3.138056    2.265639    3.067907   \n",
       "\n",
       "              V27         V28       Amount       Class  \n",
       "count  984.000000  984.000000   984.000000  984.000000  \n",
       "mean     0.090829    0.042620    98.326433    0.500000  \n",
       "std      1.015196    0.435480   220.835404    0.500254  \n",
       "min     -7.263482   -2.839512     0.000000    0.000000  \n",
       "25%     -0.055177   -0.056150     1.000000    0.000000  \n",
       "50%      0.059628    0.035679    15.825000    0.500000  \n",
       "75%      0.434981    0.220976    99.990000    1.000000  \n",
       "max      4.374186    2.972826  2287.200000    1.000000  \n",
       "\n",
       "[8 rows x 31 columns]"
      ]
     },
     "execution_count": 18,
     "metadata": {},
     "output_type": "execute_result"
    }
   ],
   "source": [
    "data.describe ()"
   ]
  },
  {
   "cell_type": "code",
   "execution_count": 19,
   "metadata": {},
   "outputs": [],
   "source": [
    "scaler = StandardScaler ()\n",
    "X_train = scaler.fit_transform (X_train)\n",
    "X_test = scaler.transform (X_test)\n",
    "\n",
    "y_train = y_train.to_numpy ()\n",
    "y_test = y_test.to_numpy ()"
   ]
  },
  {
   "cell_type": "code",
   "execution_count": 20,
   "metadata": {},
   "outputs": [],
   "source": [
    "X_train = X_train.reshape (*X_train.shape,1)\n",
    "X_test = X_test.reshape (*X_test.shape,1)"
   ]
  },
  {
   "cell_type": "code",
   "execution_count": 21,
   "metadata": {},
   "outputs": [
    {
     "data": {
      "text/plain": [
       "(197, 30, 1)"
      ]
     },
     "execution_count": 21,
     "metadata": {},
     "output_type": "execute_result"
    }
   ],
   "source": [
    "X_test.shape"
   ]
  },
  {
   "cell_type": "code",
   "execution_count": 22,
   "metadata": {},
   "outputs": [],
   "source": [
    "model = Sequential()\n",
    "model.add(Conv1D(32, 2, activation='relu', input_shape = X_train.shape[1:]))\n",
    "model.add(BatchNormalization())\n",
    "model.add(Dropout(.2))\n",
    "\n",
    "model.add(Conv1D(64, 2, activation='relu'))\n",
    "model.add(BatchNormalization())\n",
    "model.add(Dropout(.5))\n",
    "\n",
    "model.add(Flatten())\n",
    "model.add(Dense(64, activation='relu'))\n",
    "model.add(Dropout(.5))\n",
    "\n",
    "model.add(Dense(1, activation='sigmoid'))"
   ]
  },
  {
   "cell_type": "code",
   "execution_count": 23,
   "metadata": {},
   "outputs": [],
   "source": [
    "model.compile (\n",
    "    optimizer = Adam (lr = .0001),\n",
    "    loss = 'binary_crossentropy',\n",
    "    metrics=['accuracy']\n",
    ")"
   ]
  },
  {
   "cell_type": "code",
   "execution_count": 24,
   "metadata": {},
   "outputs": [
    {
     "name": "stdout",
     "output_type": "stream",
     "text": [
      "Model: \"sequential\"\n",
      "_________________________________________________________________\n",
      "Layer (type)                 Output Shape              Param #   \n",
      "=================================================================\n",
      "conv1d (Conv1D)              (None, 29, 32)            96        \n",
      "_________________________________________________________________\n",
      "batch_normalization (BatchNo (None, 29, 32)            128       \n",
      "_________________________________________________________________\n",
      "dropout (Dropout)            (None, 29, 32)            0         \n",
      "_________________________________________________________________\n",
      "conv1d_1 (Conv1D)            (None, 28, 64)            4160      \n",
      "_________________________________________________________________\n",
      "batch_normalization_1 (Batch (None, 28, 64)            256       \n",
      "_________________________________________________________________\n",
      "dropout_1 (Dropout)          (None, 28, 64)            0         \n",
      "_________________________________________________________________\n",
      "flatten (Flatten)            (None, 1792)              0         \n",
      "_________________________________________________________________\n",
      "dense (Dense)                (None, 64)                114752    \n",
      "_________________________________________________________________\n",
      "dropout_2 (Dropout)          (None, 64)                0         \n",
      "_________________________________________________________________\n",
      "dense_1 (Dense)              (None, 1)                 65        \n",
      "=================================================================\n",
      "Total params: 119,457\n",
      "Trainable params: 119,265\n",
      "Non-trainable params: 192\n",
      "_________________________________________________________________\n"
     ]
    }
   ],
   "source": [
    "model.summary()"
   ]
  },
  {
   "cell_type": "code",
   "execution_count": 25,
   "metadata": {},
   "outputs": [],
   "source": [
    "EPOCHS = 20"
   ]
  },
  {
   "cell_type": "code",
   "execution_count": 26,
   "metadata": {},
   "outputs": [
    {
     "name": "stdout",
     "output_type": "stream",
     "text": [
      "Epoch 1/20\n",
      "25/25 [==============================] - 0s 18ms/step - loss: 0.7280 - accuracy: 0.6684 - val_loss: 0.5942 - val_accuracy: 0.8832\n",
      "Epoch 2/20\n",
      "25/25 [==============================] - 0s 3ms/step - loss: 0.4587 - accuracy: 0.8170 - val_loss: 0.5360 - val_accuracy: 0.9086\n",
      "Epoch 3/20\n",
      "25/25 [==============================] - 0s 3ms/step - loss: 0.3804 - accuracy: 0.8602 - val_loss: 0.4929 - val_accuracy: 0.9137\n",
      "Epoch 4/20\n",
      "25/25 [==============================] - 0s 3ms/step - loss: 0.3085 - accuracy: 0.8869 - val_loss: 0.4710 - val_accuracy: 0.8934\n",
      "Epoch 5/20\n",
      "25/25 [==============================] - 0s 3ms/step - loss: 0.3271 - accuracy: 0.8831 - val_loss: 0.4360 - val_accuracy: 0.9086\n",
      "Epoch 6/20\n",
      "25/25 [==============================] - 0s 3ms/step - loss: 0.2922 - accuracy: 0.8958 - val_loss: 0.4144 - val_accuracy: 0.8629\n",
      "Epoch 7/20\n",
      "25/25 [==============================] - 0s 3ms/step - loss: 0.2556 - accuracy: 0.9060 - val_loss: 0.3816 - val_accuracy: 0.8985\n",
      "Epoch 8/20\n",
      "25/25 [==============================] - 0s 3ms/step - loss: 0.2557 - accuracy: 0.9199 - val_loss: 0.3681 - val_accuracy: 0.8883\n",
      "Epoch 9/20\n",
      "25/25 [==============================] - 0s 3ms/step - loss: 0.2711 - accuracy: 0.8945 - val_loss: 0.3167 - val_accuracy: 0.9239\n",
      "Epoch 10/20\n",
      "25/25 [==============================] - 0s 3ms/step - loss: 0.1962 - accuracy: 0.9301 - val_loss: 0.2914 - val_accuracy: 0.9289\n",
      "Epoch 11/20\n",
      "25/25 [==============================] - 0s 3ms/step - loss: 0.2114 - accuracy: 0.9352 - val_loss: 0.2611 - val_accuracy: 0.9289\n",
      "Epoch 12/20\n",
      "25/25 [==============================] - 0s 3ms/step - loss: 0.2411 - accuracy: 0.9111 - val_loss: 0.2380 - val_accuracy: 0.9289\n",
      "Epoch 13/20\n",
      "25/25 [==============================] - 0s 3ms/step - loss: 0.2242 - accuracy: 0.9174 - val_loss: 0.2225 - val_accuracy: 0.9289\n",
      "Epoch 14/20\n",
      "25/25 [==============================] - 0s 4ms/step - loss: 0.2233 - accuracy: 0.9250 - val_loss: 0.2089 - val_accuracy: 0.9289\n",
      "Epoch 15/20\n",
      "25/25 [==============================] - 0s 4ms/step - loss: 0.2103 - accuracy: 0.9403 - val_loss: 0.1992 - val_accuracy: 0.9289\n",
      "Epoch 16/20\n",
      "25/25 [==============================] - 0s 4ms/step - loss: 0.2180 - accuracy: 0.9187 - val_loss: 0.1938 - val_accuracy: 0.9289\n",
      "Epoch 17/20\n",
      "25/25 [==============================] - 0s 4ms/step - loss: 0.2216 - accuracy: 0.9377 - val_loss: 0.1895 - val_accuracy: 0.9289\n",
      "Epoch 18/20\n",
      "25/25 [==============================] - 0s 4ms/step - loss: 0.1809 - accuracy: 0.9428 - val_loss: 0.1855 - val_accuracy: 0.9289\n",
      "Epoch 19/20\n",
      "25/25 [==============================] - 0s 4ms/step - loss: 0.1887 - accuracy: 0.9390 - val_loss: 0.1836 - val_accuracy: 0.9340\n",
      "Epoch 20/20\n",
      "25/25 [==============================] - 0s 4ms/step - loss: 0.2042 - accuracy: 0.9339 - val_loss: 0.1824 - val_accuracy: 0.9289\n"
     ]
    }
   ],
   "source": [
    "history = model.fit (X_train,y_train, batch_size=32, epochs = EPOCHS, validation_data=(X_test,y_test))"
   ]
  },
  {
   "cell_type": "code",
   "execution_count": 27,
   "metadata": {},
   "outputs": [],
   "source": [
    "def plot_learningCurve(history, epoch):\n",
    "  epoch_range = range(1, epoch+1)\n",
    "  plt.plot(epoch_range, history.history['accuracy'])\n",
    "  plt.plot(epoch_range, history.history['val_accuracy'])\n",
    "  plt.title('Model accuracy')\n",
    "  plt.ylabel('Accuracy')\n",
    "  plt.xlabel('Epoch')\n",
    "  plt.legend(['Train', 'Val'], loc='upper left')\n",
    "  plt.show()\n",
    "\n",
    "  plt.plot(epoch_range, history.history['loss'])\n",
    "  plt.plot(epoch_range, history.history['val_loss'])\n",
    "  plt.title('Model loss')\n",
    "  plt.ylabel('Loss')\n",
    "  plt.xlabel('Epoch')\n",
    "  plt.legend(['Train', 'Val'], loc='upper left')\n",
    "  plt.show()\n",
    "\n"
   ]
  },
  {
   "cell_type": "code",
   "execution_count": 28,
   "metadata": {},
   "outputs": [
    {
     "data": {
      "image/png": "[encoded data removed]",
      "text/plain": [
       "<Figure size 432x288 with 1 Axes>"
      ]
     },
     "metadata": {
      "needs_background": "light"
     },
     "output_type": "display_data"
    },
    {
     "data": {
      "image/png": "[encoded data removed]",
      "text/plain": [
       "<Figure size 432x288 with 1 Axes>"
      ]
     },
     "metadata": {
      "needs_background": "light"
     },
     "output_type": "display_data"
    }
   ],
   "source": [
    "plot_learningCurve (history, EPOCHS)"
   ]
  },
  {
   "cell_type": "code",
   "execution_count": 32,
   "metadata": {},
   "outputs": [
    {
     "name": "stdout",
     "output_type": "stream",
     "text": [
      "Epoch 1/50\n",
      "25/25 [==============================] - 0s 12ms/step - loss: 0.9598 - accuracy: 0.5972 - val_loss: 0.6628 - val_accuracy: 0.7360\n",
      "Epoch 2/50\n",
      "25/25 [==============================] - 0s 7ms/step - loss: 0.7548 - accuracy: 0.6557 - val_loss: 0.6308 - val_accuracy: 0.7005\n",
      "Epoch 3/50\n",
      "25/25 [==============================] - 0s 6ms/step - loss: 0.6674 - accuracy: 0.6849 - val_loss: 0.6093 - val_accuracy: 0.6447\n",
      "Epoch 4/50\n",
      "25/25 [==============================] - 0s 6ms/step - loss: 0.5939 - accuracy: 0.7332 - val_loss: 0.5927 - val_accuracy: 0.6447\n",
      "Epoch 5/50\n",
      "25/25 [==============================] - 0s 6ms/step - loss: 0.5714 - accuracy: 0.7548 - val_loss: 0.5754 - val_accuracy: 0.6599\n",
      "Epoch 6/50\n",
      "25/25 [==============================] - 0s 6ms/step - loss: 0.5530 - accuracy: 0.7484 - val_loss: 0.5571 - val_accuracy: 0.6853\n",
      "Epoch 7/50\n",
      "25/25 [==============================] - 0s 6ms/step - loss: 0.4714 - accuracy: 0.8018 - val_loss: 0.5393 - val_accuracy: 0.7107\n",
      "Epoch 8/50\n",
      "25/25 [==============================] - 0s 7ms/step - loss: 0.4102 - accuracy: 0.8094 - val_loss: 0.5153 - val_accuracy: 0.7310\n",
      "Epoch 9/50\n",
      "25/25 [==============================] - 0s 7ms/step - loss: 0.4119 - accuracy: 0.8374 - val_loss: 0.4943 - val_accuracy: 0.7462\n",
      "Epoch 10/50\n",
      "25/25 [==============================] - 0s 6ms/step - loss: 0.4054 - accuracy: 0.8247 - val_loss: 0.4698 - val_accuracy: 0.7614\n",
      "Epoch 11/50\n",
      "25/25 [==============================] - 0s 6ms/step - loss: 0.4078 - accuracy: 0.8348 - val_loss: 0.4452 - val_accuracy: 0.7766\n",
      "Epoch 12/50\n",
      "25/25 [==============================] - 0s 7ms/step - loss: 0.3789 - accuracy: 0.8551 - val_loss: 0.4246 - val_accuracy: 0.8020\n",
      "Epoch 13/50\n",
      "25/25 [==============================] - 0s 6ms/step - loss: 0.3673 - accuracy: 0.8640 - val_loss: 0.4030 - val_accuracy: 0.8223\n",
      "Epoch 14/50\n",
      "25/25 [==============================] - 0s 6ms/step - loss: 0.4131 - accuracy: 0.8386 - val_loss: 0.3866 - val_accuracy: 0.8426\n",
      "Epoch 15/50\n",
      "25/25 [==============================] - 0s 6ms/step - loss: 0.3595 - accuracy: 0.8424 - val_loss: 0.3677 - val_accuracy: 0.8528\n",
      "Epoch 16/50\n",
      "25/25 [==============================] - 0s 6ms/step - loss: 0.3459 - accuracy: 0.8653 - val_loss: 0.3526 - val_accuracy: 0.8629\n",
      "Epoch 17/50\n",
      "25/25 [==============================] - 0s 7ms/step - loss: 0.3196 - accuracy: 0.8780 - val_loss: 0.3378 - val_accuracy: 0.8832\n",
      "Epoch 18/50\n",
      "25/25 [==============================] - 0s 7ms/step - loss: 0.3012 - accuracy: 0.8729 - val_loss: 0.3274 - val_accuracy: 0.8883\n",
      "Epoch 19/50\n",
      "25/25 [==============================] - 0s 7ms/step - loss: 0.3247 - accuracy: 0.8742 - val_loss: 0.3176 - val_accuracy: 0.8883\n",
      "Epoch 20/50\n",
      "25/25 [==============================] - 0s 7ms/step - loss: 0.3274 - accuracy: 0.8717 - val_loss: 0.3111 - val_accuracy: 0.8883\n",
      "Epoch 21/50\n",
      "25/25 [==============================] - 0s 7ms/step - loss: 0.3250 - accuracy: 0.8818 - val_loss: 0.3067 - val_accuracy: 0.8883\n",
      "Epoch 22/50\n",
      "25/25 [==============================] - 0s 7ms/step - loss: 0.2776 - accuracy: 0.9009 - val_loss: 0.3026 - val_accuracy: 0.8883\n",
      "Epoch 23/50\n",
      "25/25 [==============================] - 0s 6ms/step - loss: 0.3146 - accuracy: 0.8958 - val_loss: 0.2994 - val_accuracy: 0.8883\n",
      "Epoch 24/50\n",
      "25/25 [==============================] - 0s 6ms/step - loss: 0.3013 - accuracy: 0.9098 - val_loss: 0.2971 - val_accuracy: 0.8832\n",
      "Epoch 25/50\n",
      "25/25 [==============================] - 0s 6ms/step - loss: 0.3268 - accuracy: 0.8869 - val_loss: 0.2953 - val_accuracy: 0.8832\n",
      "Epoch 26/50\n",
      "25/25 [==============================] - 0s 7ms/step - loss: 0.3146 - accuracy: 0.8933 - val_loss: 0.2944 - val_accuracy: 0.8883\n",
      "Epoch 27/50\n",
      "25/25 [==============================] - 0s 6ms/step - loss: 0.2795 - accuracy: 0.8958 - val_loss: 0.2911 - val_accuracy: 0.8934\n",
      "Epoch 28/50\n",
      "25/25 [==============================] - 0s 7ms/step - loss: 0.2808 - accuracy: 0.9034 - val_loss: 0.2877 - val_accuracy: 0.8934\n",
      "Epoch 29/50\n",
      "25/25 [==============================] - 0s 6ms/step - loss: 0.2810 - accuracy: 0.8933 - val_loss: 0.2863 - val_accuracy: 0.8934\n",
      "Epoch 30/50\n",
      "25/25 [==============================] - 0s 6ms/step - loss: 0.2912 - accuracy: 0.8844 - val_loss: 0.2840 - val_accuracy: 0.9036\n",
      "Epoch 31/50\n",
      "25/25 [==============================] - 0s 6ms/step - loss: 0.2810 - accuracy: 0.9034 - val_loss: 0.2837 - val_accuracy: 0.9036\n",
      "Epoch 32/50\n",
      "25/25 [==============================] - 0s 7ms/step - loss: 0.2896 - accuracy: 0.8933 - val_loss: 0.2810 - val_accuracy: 0.9036\n",
      "Epoch 33/50\n",
      "25/25 [==============================] - 0s 6ms/step - loss: 0.2696 - accuracy: 0.8920 - val_loss: 0.2809 - val_accuracy: 0.9036\n",
      "Epoch 34/50\n",
      "25/25 [==============================] - 0s 6ms/step - loss: 0.2585 - accuracy: 0.9098 - val_loss: 0.2819 - val_accuracy: 0.8985\n",
      "Epoch 35/50\n",
      "25/25 [==============================] - 0s 6ms/step - loss: 0.2474 - accuracy: 0.9136 - val_loss: 0.2810 - val_accuracy: 0.8985\n",
      "Epoch 36/50\n",
      "25/25 [==============================] - 0s 6ms/step - loss: 0.2583 - accuracy: 0.9123 - val_loss: 0.2791 - val_accuracy: 0.8985\n",
      "Epoch 37/50\n",
      "25/25 [==============================] - 0s 7ms/step - loss: 0.2379 - accuracy: 0.9187 - val_loss: 0.2812 - val_accuracy: 0.9036\n",
      "Epoch 38/50\n",
      "25/25 [==============================] - 0s 7ms/step - loss: 0.2495 - accuracy: 0.9161 - val_loss: 0.2794 - val_accuracy: 0.9036\n",
      "Epoch 39/50\n",
      "25/25 [==============================] - 0s 6ms/step - loss: 0.2830 - accuracy: 0.9098 - val_loss: 0.2758 - val_accuracy: 0.9036\n",
      "Epoch 40/50\n",
      "25/25 [==============================] - 0s 6ms/step - loss: 0.2321 - accuracy: 0.9263 - val_loss: 0.2765 - val_accuracy: 0.9036\n",
      "Epoch 41/50\n",
      "25/25 [==============================] - 0s 6ms/step - loss: 0.2386 - accuracy: 0.9123 - val_loss: 0.2748 - val_accuracy: 0.9036\n",
      "Epoch 42/50\n",
      "25/25 [==============================] - 0s 6ms/step - loss: 0.2358 - accuracy: 0.9161 - val_loss: 0.2741 - val_accuracy: 0.9036\n",
      "Epoch 43/50\n",
      "25/25 [==============================] - 0s 6ms/step - loss: 0.2330 - accuracy: 0.9072 - val_loss: 0.2739 - val_accuracy: 0.9036\n",
      "Epoch 44/50\n",
      "25/25 [==============================] - 0s 6ms/step - loss: 0.2373 - accuracy: 0.9161 - val_loss: 0.2741 - val_accuracy: 0.9036\n",
      "Epoch 45/50\n",
      "25/25 [==============================] - 0s 6ms/step - loss: 0.2244 - accuracy: 0.9250 - val_loss: 0.2740 - val_accuracy: 0.9086\n",
      "Epoch 46/50\n",
      "25/25 [==============================] - 0s 7ms/step - loss: 0.2566 - accuracy: 0.9034 - val_loss: 0.2740 - val_accuracy: 0.9086\n",
      "Epoch 47/50\n",
      "25/25 [==============================] - 0s 6ms/step - loss: 0.2126 - accuracy: 0.9339 - val_loss: 0.2749 - val_accuracy: 0.9086\n",
      "Epoch 48/50\n",
      "25/25 [==============================] - 0s 6ms/step - loss: 0.2149 - accuracy: 0.9174 - val_loss: 0.2744 - val_accuracy: 0.9086\n",
      "Epoch 49/50\n",
      "25/25 [==============================] - 0s 6ms/step - loss: 0.2125 - accuracy: 0.9212 - val_loss: 0.2754 - val_accuracy: 0.9086\n",
      "Epoch 50/50\n",
      "25/25 [==============================] - 0s 15ms/step - loss: 0.2039 - accuracy: 0.9301 - val_loss: 0.2749 - val_accuracy: 0.9086\n"
     ]
    }
   ],
   "source": [
    "EPOCHS = 50\n",
    "model = Sequential()\n",
    "model.add(Conv1D(32, 2, activation='relu', input_shape = X_train.shape[1:]))\n",
    "model.add(BatchNormalization())\n",
    "model.add(MaxPool1D(2))\n",
    "model.add(Dropout(.2))\n",
    "\n",
    "model.add(Conv1D(64, 2, activation='relu'))\n",
    "model.add(BatchNormalization())\n",
    "model.add(MaxPool1D(2))\n",
    "model.add(Dropout(.5))\n",
    "\n",
    "model.add(Flatten())\n",
    "model.add(Dense(64, activation='relu'))\n",
    "model.add(Dropout(.5))\n",
    "\n",
    "model.add(Dense(1, activation='sigmoid'))\n",
    "\n",
    "model.compile(optimizer=Adam(lr=.0001), loss = 'binary_crossentropy', metrics=['accuracy'])\n",
    "history = model.fit(X_train, y_train,batch_size = 32, epochs=EPOCHS, validation_data=(X_test, y_test))"
   ]
  },
  {
   "cell_type": "code",
   "execution_count": 33,
   "metadata": {},
   "outputs": [
    {
     "data": {
      "image/png": "[encoded data removed]",
      "text/plain": [
       "<Figure size 432x288 with 1 Axes>"
      ]
     },
     "metadata": {
      "needs_background": "light"
     },
     "output_type": "display_data"
    },
    {
     "data": {
      "image/png": "[encoded data removed]",
      "text/plain": [
       "<Figure size 432x288 with 1 Axes>"
      ]
     },
     "metadata": {
      "needs_background": "light"
     },
     "output_type": "display_data"
    }
   ],
   "source": [
    "plot_learningCurve (history, EPOCHS)"
   ]
  },
  {
   "cell_type": "code",
   "execution_count": 42,
   "metadata": {},
   "outputs": [],
   "source": [
    "def fraudolenta (dati, threshold = 60):\n",
    "    dati = dati.reshape (1,*dati.shape)\n",
    "    dati = scaler.transform (dati).reshape (*dati.shape,1)\n",
    "    y = model.predict (dati) [0,0] *100\n",
    "    return y> threshold"
   ]
  },
  {
   "cell_type": "code",
   "execution_count": 45,
   "metadata": {},
   "outputs": [
    {
     "data": {
      "text/plain": [
       "True"
      ]
     },
     "execution_count": 45,
     "metadata": {},
     "output_type": "execute_result"
    }
   ],
   "source": [
    "fraudolenta (\n",
    "    np.array ([\n",
    "        85285,-6.71340697159693,3.92110415204576,-9.74667821737542,5.14826254938013,-5.15156271985187,-2.09938865681113,-5.93776683170198,3.57877960420447,-4.6849517505833,-8.53775768653457,6.34897930341209,-8.68160893168352,0.251179384774619,-11.6080022570993,-0.351568782034355,-5.36356643348466,-11.9390915052116,-3.58360287020043,0.897402406121681,0.135711322729059,0.954272201927517,-0.45108644858101,0.127214424071711,-0.339449869297565,0.394095513633807,1.07529509891805,1.6499059092424,-0.394905372194808,252.92\n",
    "    ])\n",
    ")"
   ]
  },
  {
   "cell_type": "code",
   "execution_count": 47,
   "metadata": {},
   "outputs": [],
   "source": [
    "model.save (\"modello.h5\")"
   ]
  },
  {
   "cell_type": "code",
   "execution_count": 50,
   "metadata": {},
   "outputs": [],
   "source": [
    "import joblib"
   ]
  },
  {
   "cell_type": "code",
   "execution_count": 51,
   "metadata": {},
   "outputs": [
    {
     "data": {
      "text/plain": [
       "['scaler.pkl']"
      ]
     },
     "execution_count": 51,
     "metadata": {},
     "output_type": "execute_result"
    }
   ],
   "source": [
    "joblib.dump (scaler, \"scaler.pkl\")"
   ]
  },
  {
   "cell_type": "code",
   "execution_count": 54,
   "metadata": {},
   "outputs": [],
   "source": [
    "sc = joblib.load (\"scaler.pkl\")"
   ]
  },
  {
   "cell_type": "code",
   "execution_count": 55,
   "metadata": {},
   "outputs": [
    {
     "data": {
      "text/plain": [
       "StandardScaler(copy=True, with_mean=True, with_std=True)"
      ]
     },
     "execution_count": 55,
     "metadata": {},
     "output_type": "execute_result"
    }
   ],
   "source": [
    "sc\n"
   ]
  }
 ],
 "metadata": {
  "kernelspec": {
   "display_name": "Python 3",
   "language": "python",
   "name": "python3"
  },
  "language_info": {
   "codemirror_mode": {
    "name": "ipython",
    "version": 3
   },
   "file_extension": ".py",
   "mimetype": "text/x-python",
   "name": "python",
   "nbconvert_exporter": "python",
   "pygments_lexer": "ipython3",
   "version": "3.7.7"
  }
 },
 "nbformat": 4,
 "nbformat_minor": 4
}
