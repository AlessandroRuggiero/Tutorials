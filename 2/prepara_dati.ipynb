{
 "cells": [
  {
   "cell_type": "code",
   "execution_count": 5,
   "metadata": {},
   "outputs": [],
   "source": [
    "import numpy as np\n",
    "from matplotlib import pyplot as plt\n",
    "import os\n",
    "import cv2\n",
    "import random\n",
    "from tqdm import tqdm"
   ]
  },
  {
   "cell_type": "code",
   "execution_count": 6,
   "metadata": {},
   "outputs": [],
   "source": [
    "CATEGORIE = (\"Dog\",\"Cat\")\n",
    "DIR = \"D:\\\\ai\\datasets\\\\catAndDogs\\\\data\\\\PetImages\" # cambiare nel path verso i dati sul vostro pc\n",
    "IMG_SIZE = 75"
   ]
  },
  {
   "cell_type": "code",
   "execution_count": 7,
   "metadata": {},
   "outputs": [],
   "source": [
    "def create_trainig_data ():\n",
    "    trainig_data = []\n",
    "    for categoria in CATEGORIE:\n",
    "        path = os.path.join (DIR,categoria)\n",
    "        class_num = CATEGORIE.index (categoria)\n",
    "        for nome_immagine in tqdm(os.listdir (path)):\n",
    "            try :\n",
    "                img_array = cv2.imread (os.path.join (path,nome_immagine),cv2.IMREAD_GRAYSCALE)\n",
    "                img_array = cv2.resize (img_array, (IMG_SIZE,IMG_SIZE))\n",
    "                trainig_data.append ((img_array,class_num))\n",
    "            except Exception as e:\n",
    "                #print (e)\n",
    "                pass\n",
    "    return trainig_data"
   ]
  },
  {
   "cell_type": "code",
   "execution_count": 8,
   "metadata": {},
   "outputs": [
    {
     "name": "stderr",
     "output_type": "stream",
     "text": [
      "100%|███████████████████████████████████████████████████████████████████████████| 12501/12501 [00:41<00:00, 301.36it/s]\n",
      "100%|███████████████████████████████████████████████████████████████████████████| 12501/12501 [00:39<00:00, 315.90it/s]\n"
     ]
    }
   ],
   "source": [
    "data = create_trainig_data()"
   ]
  },
  {
   "cell_type": "code",
   "execution_count": 9,
   "metadata": {},
   "outputs": [],
   "source": [
    "random.shuffle (data)"
   ]
  },
  {
   "cell_type": "code",
   "execution_count": 10,
   "metadata": {},
   "outputs": [],
   "source": [
    "def prepara_dati (dati):\n",
    "    inp = []\n",
    "    out = []\n",
    "    \n",
    "    for img,label in dati:\n",
    "        inp.append (img)\n",
    "        y = np.zeros (len (CATEGORIE))\n",
    "        y[label] = 1\n",
    "        out.append (y)\n",
    "    inp = np.array (inp).reshape(-1,IMG_SIZE,IMG_SIZE,1)\n",
    "    return inp,out"
   ]
  },
  {
   "cell_type": "code",
   "execution_count": 11,
   "metadata": {},
   "outputs": [],
   "source": [
    "X,y = prepara_dati(data)"
   ]
  },
  {
   "cell_type": "code",
   "execution_count": 12,
   "metadata": {},
   "outputs": [
    {
     "data": {
      "text/plain": [
       "array([0., 1.])"
      ]
     },
     "execution_count": 12,
     "metadata": {},
     "output_type": "execute_result"
    }
   ],
   "source": [
    "y[-1]"
   ]
  },
  {
   "cell_type": "code",
   "execution_count": 13,
   "metadata": {},
   "outputs": [],
   "source": [
    "import pickle\n",
    "\n",
    "with open (\"X.pickle\",\"wb\") as f:\n",
    "    pickle.dump (X,f)\n",
    "\n",
    "with open (\"y.pickle\",\"wb\") as f:\n",
    "    pickle.dump (y,f)"
   ]
  }
 ],
 "metadata": {
  "kernelspec": {
   "display_name": "Python 3",
   "language": "python",
   "name": "python3"
  },
  "language_info": {
   "codemirror_mode": {
    "name": "ipython",
    "version": 3
   },
   "file_extension": ".py",
   "mimetype": "text/x-python",
   "name": "python",
   "nbconvert_exporter": "python",
   "pygments_lexer": "ipython3",
   "version": "3.7.7"
  }
 },
 "nbformat": 4,
 "nbformat_minor": 4
}
